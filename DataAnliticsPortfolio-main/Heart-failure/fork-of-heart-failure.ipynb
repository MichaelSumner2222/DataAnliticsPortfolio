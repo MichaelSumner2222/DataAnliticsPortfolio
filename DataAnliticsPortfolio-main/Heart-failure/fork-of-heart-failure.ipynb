{
 "cells": [
  {
   "cell_type": "code",
   "execution_count": 1,
   "id": "d35b12c6",
   "metadata": {
    "_execution_state": "idle",
    "_uuid": "051d70d956493feee0c6d64651c6a088724dca2a",
    "execution": {
     "iopub.execute_input": "2023-08-12T17:32:06.475099Z",
     "iopub.status.busy": "2023-08-12T17:32:06.473387Z",
     "iopub.status.idle": "2023-08-12T17:32:07.553132Z",
     "shell.execute_reply": "2023-08-12T17:32:07.551876Z"
    },
    "papermill": {
     "duration": 1.08704,
     "end_time": "2023-08-12T17:32:07.554808",
     "exception": false,
     "start_time": "2023-08-12T17:32:06.467768",
     "status": "completed"
    },
    "tags": []
   },
   "outputs": [
    {
     "name": "stderr",
     "output_type": "stream",
     "text": [
      "── \u001b[1mAttaching core tidyverse packages\u001b[22m ──────────────────────── tidyverse 2.0.0 ──\n",
      "\u001b[32m✔\u001b[39m \u001b[34mdplyr    \u001b[39m 1.1.2     \u001b[32m✔\u001b[39m \u001b[34mreadr    \u001b[39m 2.1.4\n",
      "\u001b[32m✔\u001b[39m \u001b[34mforcats  \u001b[39m 1.0.0     \u001b[32m✔\u001b[39m \u001b[34mstringr  \u001b[39m 1.5.0\n",
      "\u001b[32m✔\u001b[39m \u001b[34mggplot2  \u001b[39m 3.4.2     \u001b[32m✔\u001b[39m \u001b[34mtibble   \u001b[39m 3.2.1\n",
      "\u001b[32m✔\u001b[39m \u001b[34mlubridate\u001b[39m 1.9.2     \u001b[32m✔\u001b[39m \u001b[34mtidyr    \u001b[39m 1.3.0\n",
      "\u001b[32m✔\u001b[39m \u001b[34mpurrr    \u001b[39m 1.0.1     \n",
      "── \u001b[1mConflicts\u001b[22m ────────────────────────────────────────── tidyverse_conflicts() ──\n",
      "\u001b[31m✖\u001b[39m \u001b[34mdplyr\u001b[39m::\u001b[32mfilter()\u001b[39m masks \u001b[34mstats\u001b[39m::filter()\n",
      "\u001b[31m✖\u001b[39m \u001b[34mdplyr\u001b[39m::\u001b[32mlag()\u001b[39m    masks \u001b[34mstats\u001b[39m::lag()\n",
      "\u001b[36mℹ\u001b[39m Use the conflicted package (\u001b[3m\u001b[34m<http://conflicted.r-lib.org/>\u001b[39m\u001b[23m) to force all conflicts to become errors\n"
     ]
    },
    {
     "data": {
      "text/html": [
       "'heart-failure-prediction'"
      ],
      "text/latex": [
       "'heart-failure-prediction'"
      ],
      "text/markdown": [
       "'heart-failure-prediction'"
      ],
      "text/plain": [
       "[1] \"heart-failure-prediction\""
      ]
     },
     "metadata": {},
     "output_type": "display_data"
    }
   ],
   "source": [
    "# This R environment comes with many helpful analytics packages installed\n",
    "# It is defined by the kaggle/rstats Docker image: https://github.com/kaggle/docker-rstats\n",
    "# For example, here's a helpful package to load\n",
    "\n",
    "library(tidyverse) # metapackage of all tidyverse packages\n",
    "\n",
    "# Input data files are available in the read-only \"../input/\" directory\n",
    "# For example, running this (by clicking run or pressing Shift+Enter) will list all files under the input directory\n",
    "\n",
    "list.files(path = \"../input\")\n"
   ]
  },
  {
   "cell_type": "code",
   "execution_count": 2,
   "id": "2e387e67",
   "metadata": {
    "execution": {
     "iopub.execute_input": "2023-08-12T17:32:07.585897Z",
     "iopub.status.busy": "2023-08-12T17:32:07.563301Z",
     "iopub.status.idle": "2023-08-12T17:32:07.778463Z",
     "shell.execute_reply": "2023-08-12T17:32:07.776968Z"
    },
    "papermill": {
     "duration": 0.222622,
     "end_time": "2023-08-12T17:32:07.780884",
     "exception": false,
     "start_time": "2023-08-12T17:32:07.558262",
     "status": "completed"
    },
    "tags": []
   },
   "outputs": [],
   "source": [
    "heart_failure <- read_csv(\"/kaggle/input/heart-failure-prediction/heart.csv\", show_col_types = FALSE)"
   ]
  },
  {
   "cell_type": "code",
   "execution_count": 3,
   "id": "eeb6a7e1",
   "metadata": {
    "execution": {
     "iopub.execute_input": "2023-08-12T17:32:07.790808Z",
     "iopub.status.busy": "2023-08-12T17:32:07.789437Z",
     "iopub.status.idle": "2023-08-12T17:32:07.803936Z",
     "shell.execute_reply": "2023-08-12T17:32:07.802349Z"
    },
    "papermill": {
     "duration": 0.02148,
     "end_time": "2023-08-12T17:32:07.805909",
     "exception": false,
     "start_time": "2023-08-12T17:32:07.784429",
     "status": "completed"
    },
    "tags": []
   },
   "outputs": [
    {
     "data": {
      "text/html": [
       "<style>\n",
       ".list-inline {list-style: none; margin:0; padding: 0}\n",
       ".list-inline>li {display: inline-block}\n",
       ".list-inline>li:not(:last-child)::after {content: \"\\00b7\"; padding: 0 .5ex}\n",
       "</style>\n",
       "<ol class=list-inline><li>'Age'</li><li>'Sex'</li><li>'ChestPainType'</li><li>'RestingBP'</li><li>'Cholesterol'</li><li>'FastingBS'</li><li>'RestingECG'</li><li>'MaxHR'</li><li>'ExerciseAngina'</li><li>'Oldpeak'</li><li>'ST_Slope'</li><li>'HeartDisease'</li></ol>\n"
      ],
      "text/latex": [
       "\\begin{enumerate*}\n",
       "\\item 'Age'\n",
       "\\item 'Sex'\n",
       "\\item 'ChestPainType'\n",
       "\\item 'RestingBP'\n",
       "\\item 'Cholesterol'\n",
       "\\item 'FastingBS'\n",
       "\\item 'RestingECG'\n",
       "\\item 'MaxHR'\n",
       "\\item 'ExerciseAngina'\n",
       "\\item 'Oldpeak'\n",
       "\\item 'ST\\_Slope'\n",
       "\\item 'HeartDisease'\n",
       "\\end{enumerate*}\n"
      ],
      "text/markdown": [
       "1. 'Age'\n",
       "2. 'Sex'\n",
       "3. 'ChestPainType'\n",
       "4. 'RestingBP'\n",
       "5. 'Cholesterol'\n",
       "6. 'FastingBS'\n",
       "7. 'RestingECG'\n",
       "8. 'MaxHR'\n",
       "9. 'ExerciseAngina'\n",
       "10. 'Oldpeak'\n",
       "11. 'ST_Slope'\n",
       "12. 'HeartDisease'\n",
       "\n",
       "\n"
      ],
      "text/plain": [
       " [1] \"Age\"            \"Sex\"            \"ChestPainType\"  \"RestingBP\"     \n",
       " [5] \"Cholesterol\"    \"FastingBS\"      \"RestingECG\"     \"MaxHR\"         \n",
       " [9] \"ExerciseAngina\" \"Oldpeak\"        \"ST_Slope\"       \"HeartDisease\"  "
      ]
     },
     "metadata": {},
     "output_type": "display_data"
    }
   ],
   "source": [
    "names(heart_failure)"
   ]
  },
  {
   "cell_type": "code",
   "execution_count": 4,
   "id": "6154e0ed",
   "metadata": {
    "execution": {
     "iopub.execute_input": "2023-08-12T17:32:07.816070Z",
     "iopub.status.busy": "2023-08-12T17:32:07.814637Z",
     "iopub.status.idle": "2023-08-12T17:32:07.849610Z",
     "shell.execute_reply": "2023-08-12T17:32:07.848170Z"
    },
    "papermill": {
     "duration": 0.042245,
     "end_time": "2023-08-12T17:32:07.851699",
     "exception": false,
     "start_time": "2023-08-12T17:32:07.809454",
     "status": "completed"
    },
    "tags": []
   },
   "outputs": [
    {
     "data": {
      "text/html": [
       "<table class=\"dataframe\">\n",
       "<caption>A tibble: 6 × 12</caption>\n",
       "<thead>\n",
       "\t<tr><th scope=col>Age</th><th scope=col>Sex</th><th scope=col>ChestPainType</th><th scope=col>RestingBP</th><th scope=col>Cholesterol</th><th scope=col>FastingBS</th><th scope=col>RestingECG</th><th scope=col>MaxHR</th><th scope=col>ExerciseAngina</th><th scope=col>Oldpeak</th><th scope=col>ST_Slope</th><th scope=col>HeartDisease</th></tr>\n",
       "\t<tr><th scope=col>&lt;dbl&gt;</th><th scope=col>&lt;chr&gt;</th><th scope=col>&lt;chr&gt;</th><th scope=col>&lt;dbl&gt;</th><th scope=col>&lt;dbl&gt;</th><th scope=col>&lt;dbl&gt;</th><th scope=col>&lt;chr&gt;</th><th scope=col>&lt;dbl&gt;</th><th scope=col>&lt;chr&gt;</th><th scope=col>&lt;dbl&gt;</th><th scope=col>&lt;chr&gt;</th><th scope=col>&lt;dbl&gt;</th></tr>\n",
       "</thead>\n",
       "<tbody>\n",
       "\t<tr><td>40</td><td>M</td><td>ATA</td><td>140</td><td>289</td><td>0</td><td>Normal</td><td>172</td><td>N</td><td>0.0</td><td>Up  </td><td>0</td></tr>\n",
       "\t<tr><td>49</td><td>F</td><td>NAP</td><td>160</td><td>180</td><td>0</td><td>Normal</td><td>156</td><td>N</td><td>1.0</td><td>Flat</td><td>1</td></tr>\n",
       "\t<tr><td>37</td><td>M</td><td>ATA</td><td>130</td><td>283</td><td>0</td><td>ST    </td><td> 98</td><td>N</td><td>0.0</td><td>Up  </td><td>0</td></tr>\n",
       "\t<tr><td>48</td><td>F</td><td>ASY</td><td>138</td><td>214</td><td>0</td><td>Normal</td><td>108</td><td>Y</td><td>1.5</td><td>Flat</td><td>1</td></tr>\n",
       "\t<tr><td>54</td><td>M</td><td>NAP</td><td>150</td><td>195</td><td>0</td><td>Normal</td><td>122</td><td>N</td><td>0.0</td><td>Up  </td><td>0</td></tr>\n",
       "\t<tr><td>39</td><td>M</td><td>NAP</td><td>120</td><td>339</td><td>0</td><td>Normal</td><td>170</td><td>N</td><td>0.0</td><td>Up  </td><td>0</td></tr>\n",
       "</tbody>\n",
       "</table>\n"
      ],
      "text/latex": [
       "A tibble: 6 × 12\n",
       "\\begin{tabular}{llllllllllll}\n",
       " Age & Sex & ChestPainType & RestingBP & Cholesterol & FastingBS & RestingECG & MaxHR & ExerciseAngina & Oldpeak & ST\\_Slope & HeartDisease\\\\\n",
       " <dbl> & <chr> & <chr> & <dbl> & <dbl> & <dbl> & <chr> & <dbl> & <chr> & <dbl> & <chr> & <dbl>\\\\\n",
       "\\hline\n",
       "\t 40 & M & ATA & 140 & 289 & 0 & Normal & 172 & N & 0.0 & Up   & 0\\\\\n",
       "\t 49 & F & NAP & 160 & 180 & 0 & Normal & 156 & N & 1.0 & Flat & 1\\\\\n",
       "\t 37 & M & ATA & 130 & 283 & 0 & ST     &  98 & N & 0.0 & Up   & 0\\\\\n",
       "\t 48 & F & ASY & 138 & 214 & 0 & Normal & 108 & Y & 1.5 & Flat & 1\\\\\n",
       "\t 54 & M & NAP & 150 & 195 & 0 & Normal & 122 & N & 0.0 & Up   & 0\\\\\n",
       "\t 39 & M & NAP & 120 & 339 & 0 & Normal & 170 & N & 0.0 & Up   & 0\\\\\n",
       "\\end{tabular}\n"
      ],
      "text/markdown": [
       "\n",
       "A tibble: 6 × 12\n",
       "\n",
       "| Age &lt;dbl&gt; | Sex &lt;chr&gt; | ChestPainType &lt;chr&gt; | RestingBP &lt;dbl&gt; | Cholesterol &lt;dbl&gt; | FastingBS &lt;dbl&gt; | RestingECG &lt;chr&gt; | MaxHR &lt;dbl&gt; | ExerciseAngina &lt;chr&gt; | Oldpeak &lt;dbl&gt; | ST_Slope &lt;chr&gt; | HeartDisease &lt;dbl&gt; |\n",
       "|---|---|---|---|---|---|---|---|---|---|---|---|\n",
       "| 40 | M | ATA | 140 | 289 | 0 | Normal | 172 | N | 0.0 | Up   | 0 |\n",
       "| 49 | F | NAP | 160 | 180 | 0 | Normal | 156 | N | 1.0 | Flat | 1 |\n",
       "| 37 | M | ATA | 130 | 283 | 0 | ST     |  98 | N | 0.0 | Up   | 0 |\n",
       "| 48 | F | ASY | 138 | 214 | 0 | Normal | 108 | Y | 1.5 | Flat | 1 |\n",
       "| 54 | M | NAP | 150 | 195 | 0 | Normal | 122 | N | 0.0 | Up   | 0 |\n",
       "| 39 | M | NAP | 120 | 339 | 0 | Normal | 170 | N | 0.0 | Up   | 0 |\n",
       "\n"
      ],
      "text/plain": [
       "  Age Sex ChestPainType RestingBP Cholesterol FastingBS RestingECG MaxHR\n",
       "1 40  M   ATA           140       289         0         Normal     172  \n",
       "2 49  F   NAP           160       180         0         Normal     156  \n",
       "3 37  M   ATA           130       283         0         ST          98  \n",
       "4 48  F   ASY           138       214         0         Normal     108  \n",
       "5 54  M   NAP           150       195         0         Normal     122  \n",
       "6 39  M   NAP           120       339         0         Normal     170  \n",
       "  ExerciseAngina Oldpeak ST_Slope HeartDisease\n",
       "1 N              0.0     Up       0           \n",
       "2 N              1.0     Flat     1           \n",
       "3 N              0.0     Up       0           \n",
       "4 Y              1.5     Flat     1           \n",
       "5 N              0.0     Up       0           \n",
       "6 N              0.0     Up       0           "
      ]
     },
     "metadata": {},
     "output_type": "display_data"
    }
   ],
   "source": [
    "head(heart_failure)"
   ]
  },
  {
   "cell_type": "code",
   "execution_count": 5,
   "id": "510f4671",
   "metadata": {
    "execution": {
     "iopub.execute_input": "2023-08-12T17:32:07.861978Z",
     "iopub.status.busy": "2023-08-12T17:32:07.860669Z",
     "iopub.status.idle": "2023-08-12T17:32:07.913175Z",
     "shell.execute_reply": "2023-08-12T17:32:07.911770Z"
    },
    "papermill": {
     "duration": 0.059485,
     "end_time": "2023-08-12T17:32:07.915075",
     "exception": false,
     "start_time": "2023-08-12T17:32:07.855590",
     "status": "completed"
    },
    "tags": []
   },
   "outputs": [
    {
     "data": {
      "text/html": [
       "<table class=\"dataframe\">\n",
       "<caption>A tibble: 50 × 2</caption>\n",
       "<thead>\n",
       "\t<tr><th scope=col>Age</th><th scope=col>count</th></tr>\n",
       "\t<tr><th scope=col>&lt;dbl&gt;</th><th scope=col>&lt;int&gt;</th></tr>\n",
       "</thead>\n",
       "<tbody>\n",
       "\t<tr><td>28</td><td> 1</td></tr>\n",
       "\t<tr><td>29</td><td> 3</td></tr>\n",
       "\t<tr><td>30</td><td> 1</td></tr>\n",
       "\t<tr><td>31</td><td> 2</td></tr>\n",
       "\t<tr><td>32</td><td> 5</td></tr>\n",
       "\t<tr><td>33</td><td> 2</td></tr>\n",
       "\t<tr><td>34</td><td> 7</td></tr>\n",
       "\t<tr><td>35</td><td>11</td></tr>\n",
       "\t<tr><td>36</td><td> 6</td></tr>\n",
       "\t<tr><td>37</td><td>11</td></tr>\n",
       "\t<tr><td>38</td><td>16</td></tr>\n",
       "\t<tr><td>39</td><td>15</td></tr>\n",
       "\t<tr><td>40</td><td>13</td></tr>\n",
       "\t<tr><td>41</td><td>24</td></tr>\n",
       "\t<tr><td>42</td><td>18</td></tr>\n",
       "\t<tr><td>43</td><td>24</td></tr>\n",
       "\t<tr><td>44</td><td>19</td></tr>\n",
       "\t<tr><td>45</td><td>18</td></tr>\n",
       "\t<tr><td>46</td><td>24</td></tr>\n",
       "\t<tr><td>47</td><td>19</td></tr>\n",
       "\t<tr><td>48</td><td>31</td></tr>\n",
       "\t<tr><td>49</td><td>21</td></tr>\n",
       "\t<tr><td>50</td><td>25</td></tr>\n",
       "\t<tr><td>51</td><td>35</td></tr>\n",
       "\t<tr><td>52</td><td>36</td></tr>\n",
       "\t<tr><td>53</td><td>33</td></tr>\n",
       "\t<tr><td>54</td><td>51</td></tr>\n",
       "\t<tr><td>55</td><td>41</td></tr>\n",
       "\t<tr><td>56</td><td>38</td></tr>\n",
       "\t<tr><td>57</td><td>38</td></tr>\n",
       "\t<tr><td>58</td><td>42</td></tr>\n",
       "\t<tr><td>59</td><td>35</td></tr>\n",
       "\t<tr><td>60</td><td>32</td></tr>\n",
       "\t<tr><td>61</td><td>31</td></tr>\n",
       "\t<tr><td>62</td><td>35</td></tr>\n",
       "\t<tr><td>63</td><td>30</td></tr>\n",
       "\t<tr><td>64</td><td>22</td></tr>\n",
       "\t<tr><td>65</td><td>21</td></tr>\n",
       "\t<tr><td>66</td><td>13</td></tr>\n",
       "\t<tr><td>67</td><td>15</td></tr>\n",
       "\t<tr><td>68</td><td>10</td></tr>\n",
       "\t<tr><td>69</td><td>13</td></tr>\n",
       "\t<tr><td>70</td><td> 7</td></tr>\n",
       "\t<tr><td>71</td><td> 5</td></tr>\n",
       "\t<tr><td>72</td><td> 4</td></tr>\n",
       "\t<tr><td>73</td><td> 1</td></tr>\n",
       "\t<tr><td>74</td><td> 7</td></tr>\n",
       "\t<tr><td>75</td><td> 3</td></tr>\n",
       "\t<tr><td>76</td><td> 2</td></tr>\n",
       "\t<tr><td>77</td><td> 2</td></tr>\n",
       "</tbody>\n",
       "</table>\n"
      ],
      "text/latex": [
       "A tibble: 50 × 2\n",
       "\\begin{tabular}{ll}\n",
       " Age & count\\\\\n",
       " <dbl> & <int>\\\\\n",
       "\\hline\n",
       "\t 28 &  1\\\\\n",
       "\t 29 &  3\\\\\n",
       "\t 30 &  1\\\\\n",
       "\t 31 &  2\\\\\n",
       "\t 32 &  5\\\\\n",
       "\t 33 &  2\\\\\n",
       "\t 34 &  7\\\\\n",
       "\t 35 & 11\\\\\n",
       "\t 36 &  6\\\\\n",
       "\t 37 & 11\\\\\n",
       "\t 38 & 16\\\\\n",
       "\t 39 & 15\\\\\n",
       "\t 40 & 13\\\\\n",
       "\t 41 & 24\\\\\n",
       "\t 42 & 18\\\\\n",
       "\t 43 & 24\\\\\n",
       "\t 44 & 19\\\\\n",
       "\t 45 & 18\\\\\n",
       "\t 46 & 24\\\\\n",
       "\t 47 & 19\\\\\n",
       "\t 48 & 31\\\\\n",
       "\t 49 & 21\\\\\n",
       "\t 50 & 25\\\\\n",
       "\t 51 & 35\\\\\n",
       "\t 52 & 36\\\\\n",
       "\t 53 & 33\\\\\n",
       "\t 54 & 51\\\\\n",
       "\t 55 & 41\\\\\n",
       "\t 56 & 38\\\\\n",
       "\t 57 & 38\\\\\n",
       "\t 58 & 42\\\\\n",
       "\t 59 & 35\\\\\n",
       "\t 60 & 32\\\\\n",
       "\t 61 & 31\\\\\n",
       "\t 62 & 35\\\\\n",
       "\t 63 & 30\\\\\n",
       "\t 64 & 22\\\\\n",
       "\t 65 & 21\\\\\n",
       "\t 66 & 13\\\\\n",
       "\t 67 & 15\\\\\n",
       "\t 68 & 10\\\\\n",
       "\t 69 & 13\\\\\n",
       "\t 70 &  7\\\\\n",
       "\t 71 &  5\\\\\n",
       "\t 72 &  4\\\\\n",
       "\t 73 &  1\\\\\n",
       "\t 74 &  7\\\\\n",
       "\t 75 &  3\\\\\n",
       "\t 76 &  2\\\\\n",
       "\t 77 &  2\\\\\n",
       "\\end{tabular}\n"
      ],
      "text/markdown": [
       "\n",
       "A tibble: 50 × 2\n",
       "\n",
       "| Age &lt;dbl&gt; | count &lt;int&gt; |\n",
       "|---|---|\n",
       "| 28 |  1 |\n",
       "| 29 |  3 |\n",
       "| 30 |  1 |\n",
       "| 31 |  2 |\n",
       "| 32 |  5 |\n",
       "| 33 |  2 |\n",
       "| 34 |  7 |\n",
       "| 35 | 11 |\n",
       "| 36 |  6 |\n",
       "| 37 | 11 |\n",
       "| 38 | 16 |\n",
       "| 39 | 15 |\n",
       "| 40 | 13 |\n",
       "| 41 | 24 |\n",
       "| 42 | 18 |\n",
       "| 43 | 24 |\n",
       "| 44 | 19 |\n",
       "| 45 | 18 |\n",
       "| 46 | 24 |\n",
       "| 47 | 19 |\n",
       "| 48 | 31 |\n",
       "| 49 | 21 |\n",
       "| 50 | 25 |\n",
       "| 51 | 35 |\n",
       "| 52 | 36 |\n",
       "| 53 | 33 |\n",
       "| 54 | 51 |\n",
       "| 55 | 41 |\n",
       "| 56 | 38 |\n",
       "| 57 | 38 |\n",
       "| 58 | 42 |\n",
       "| 59 | 35 |\n",
       "| 60 | 32 |\n",
       "| 61 | 31 |\n",
       "| 62 | 35 |\n",
       "| 63 | 30 |\n",
       "| 64 | 22 |\n",
       "| 65 | 21 |\n",
       "| 66 | 13 |\n",
       "| 67 | 15 |\n",
       "| 68 | 10 |\n",
       "| 69 | 13 |\n",
       "| 70 |  7 |\n",
       "| 71 |  5 |\n",
       "| 72 |  4 |\n",
       "| 73 |  1 |\n",
       "| 74 |  7 |\n",
       "| 75 |  3 |\n",
       "| 76 |  2 |\n",
       "| 77 |  2 |\n",
       "\n"
      ],
      "text/plain": [
       "   Age count\n",
       "1  28   1   \n",
       "2  29   3   \n",
       "3  30   1   \n",
       "4  31   2   \n",
       "5  32   5   \n",
       "6  33   2   \n",
       "7  34   7   \n",
       "8  35  11   \n",
       "9  36   6   \n",
       "10 37  11   \n",
       "11 38  16   \n",
       "12 39  15   \n",
       "13 40  13   \n",
       "14 41  24   \n",
       "15 42  18   \n",
       "16 43  24   \n",
       "17 44  19   \n",
       "18 45  18   \n",
       "19 46  24   \n",
       "20 47  19   \n",
       "21 48  31   \n",
       "22 49  21   \n",
       "23 50  25   \n",
       "24 51  35   \n",
       "25 52  36   \n",
       "26 53  33   \n",
       "27 54  51   \n",
       "28 55  41   \n",
       "29 56  38   \n",
       "30 57  38   \n",
       "31 58  42   \n",
       "32 59  35   \n",
       "33 60  32   \n",
       "34 61  31   \n",
       "35 62  35   \n",
       "36 63  30   \n",
       "37 64  22   \n",
       "38 65  21   \n",
       "39 66  13   \n",
       "40 67  15   \n",
       "41 68  10   \n",
       "42 69  13   \n",
       "43 70   7   \n",
       "44 71   5   \n",
       "45 72   4   \n",
       "46 73   1   \n",
       "47 74   7   \n",
       "48 75   3   \n",
       "49 76   2   \n",
       "50 77   2   "
      ]
     },
     "metadata": {},
     "output_type": "display_data"
    }
   ],
   "source": [
    "heart_failure %>%\n",
    "group_by(Age)%>%\n",
    "summarize(count =n())\n"
   ]
  },
  {
   "cell_type": "code",
   "execution_count": 6,
   "id": "eadb101e",
   "metadata": {
    "execution": {
     "iopub.execute_input": "2023-08-12T17:32:07.925810Z",
     "iopub.status.busy": "2023-08-12T17:32:07.924595Z",
     "iopub.status.idle": "2023-08-12T17:32:08.453045Z",
     "shell.execute_reply": "2023-08-12T17:32:08.451649Z"
    },
    "papermill": {
     "duration": 0.536053,
     "end_time": "2023-08-12T17:32:08.455196",
     "exception": false,
     "start_time": "2023-08-12T17:32:07.919143",
     "status": "completed"
    },
    "tags": []
   },
   "outputs": [
    {
     "data": {
      "image/png": "[encoded data removed]"
     },
     "metadata": {
      "image/png": {
       "height": 420,
       "width": 420
      }
     },
     "output_type": "display_data"
    }
   ],
   "source": [
    "heart_failure %>%\n",
    "group_by(Age)%>%\n",
    "summarize(count =n()) %>%\n",
    "ggplot() +\n",
    "geom_col(aes (x=Age, y=count))\n"
   ]
  },
  {
   "cell_type": "code",
   "execution_count": 7,
   "id": "e8a9135b",
   "metadata": {
    "execution": {
     "iopub.execute_input": "2023-08-12T17:32:08.468938Z",
     "iopub.status.busy": "2023-08-12T17:32:08.467605Z",
     "iopub.status.idle": "2023-08-12T17:32:08.492408Z",
     "shell.execute_reply": "2023-08-12T17:32:08.491020Z"
    },
    "papermill": {
     "duration": 0.033267,
     "end_time": "2023-08-12T17:32:08.494742",
     "exception": false,
     "start_time": "2023-08-12T17:32:08.461475",
     "status": "completed"
    },
    "tags": []
   },
   "outputs": [
    {
     "data": {
      "text/html": [
       "<table class=\"dataframe\">\n",
       "<caption>A tibble: 2 × 2</caption>\n",
       "<thead>\n",
       "\t<tr><th scope=col>Sex</th><th scope=col>count</th></tr>\n",
       "\t<tr><th scope=col>&lt;chr&gt;</th><th scope=col>&lt;int&gt;</th></tr>\n",
       "</thead>\n",
       "<tbody>\n",
       "\t<tr><td>F</td><td>193</td></tr>\n",
       "\t<tr><td>M</td><td>725</td></tr>\n",
       "</tbody>\n",
       "</table>\n"
      ],
      "text/latex": [
       "A tibble: 2 × 2\n",
       "\\begin{tabular}{ll}\n",
       " Sex & count\\\\\n",
       " <chr> & <int>\\\\\n",
       "\\hline\n",
       "\t F & 193\\\\\n",
       "\t M & 725\\\\\n",
       "\\end{tabular}\n"
      ],
      "text/markdown": [
       "\n",
       "A tibble: 2 × 2\n",
       "\n",
       "| Sex &lt;chr&gt; | count &lt;int&gt; |\n",
       "|---|---|\n",
       "| F | 193 |\n",
       "| M | 725 |\n",
       "\n"
      ],
      "text/plain": [
       "  Sex count\n",
       "1 F   193  \n",
       "2 M   725  "
      ]
     },
     "metadata": {},
     "output_type": "display_data"
    }
   ],
   "source": [
    "heart_failure %>%\n",
    "group_by(Sex)%>%\n",
    "summarize(count =n())\n"
   ]
  },
  {
   "cell_type": "code",
   "execution_count": 8,
   "id": "32d2452d",
   "metadata": {
    "execution": {
     "iopub.execute_input": "2023-08-12T17:32:08.506775Z",
     "iopub.status.busy": "2023-08-12T17:32:08.505495Z",
     "iopub.status.idle": "2023-08-12T17:32:08.730388Z",
     "shell.execute_reply": "2023-08-12T17:32:08.729213Z"
    },
    "papermill": {
     "duration": 0.233702,
     "end_time": "2023-08-12T17:32:08.732981",
     "exception": false,
     "start_time": "2023-08-12T17:32:08.499279",
     "status": "completed"
    },
    "tags": []
   },
   "outputs": [
    {
     "data": {
      "image/png": "[encoded data removed]"
     },
     "metadata": {
      "image/png": {
       "height": 420,
       "width": 420
      }
     },
     "output_type": "display_data"
    }
   ],
   "source": [
    "heart_failure %>%\n",
    "group_by(Sex)%>%\n",
    "summarize(count =n()) %>%\n",
    "ggplot() +\n",
    "geom_col(aes (x=Sex, y=count))\n",
    "\n"
   ]
  },
  {
   "cell_type": "code",
   "execution_count": 9,
   "id": "3381e17e",
   "metadata": {
    "execution": {
     "iopub.execute_input": "2023-08-12T17:32:08.745459Z",
     "iopub.status.busy": "2023-08-12T17:32:08.744114Z",
     "iopub.status.idle": "2023-08-12T17:32:08.776266Z",
     "shell.execute_reply": "2023-08-12T17:32:08.774576Z"
    },
    "papermill": {
     "duration": 0.040771,
     "end_time": "2023-08-12T17:32:08.778556",
     "exception": false,
     "start_time": "2023-08-12T17:32:08.737785",
     "status": "completed"
    },
    "tags": []
   },
   "outputs": [
    {
     "data": {
      "text/html": [
       "<table class=\"dataframe\">\n",
       "<caption>A tibble: 4 × 2</caption>\n",
       "<thead>\n",
       "\t<tr><th scope=col>ChestPainType</th><th scope=col>count</th></tr>\n",
       "\t<tr><th scope=col>&lt;chr&gt;</th><th scope=col>&lt;int&gt;</th></tr>\n",
       "</thead>\n",
       "<tbody>\n",
       "\t<tr><td>ASY</td><td>496</td></tr>\n",
       "\t<tr><td>ATA</td><td>173</td></tr>\n",
       "\t<tr><td>NAP</td><td>203</td></tr>\n",
       "\t<tr><td>TA </td><td> 46</td></tr>\n",
       "</tbody>\n",
       "</table>\n"
      ],
      "text/latex": [
       "A tibble: 4 × 2\n",
       "\\begin{tabular}{ll}\n",
       " ChestPainType & count\\\\\n",
       " <chr> & <int>\\\\\n",
       "\\hline\n",
       "\t ASY & 496\\\\\n",
       "\t ATA & 173\\\\\n",
       "\t NAP & 203\\\\\n",
       "\t TA  &  46\\\\\n",
       "\\end{tabular}\n"
      ],
      "text/markdown": [
       "\n",
       "A tibble: 4 × 2\n",
       "\n",
       "| ChestPainType &lt;chr&gt; | count &lt;int&gt; |\n",
       "|---|---|\n",
       "| ASY | 496 |\n",
       "| ATA | 173 |\n",
       "| NAP | 203 |\n",
       "| TA  |  46 |\n",
       "\n"
      ],
      "text/plain": [
       "  ChestPainType count\n",
       "1 ASY           496  \n",
       "2 ATA           173  \n",
       "3 NAP           203  \n",
       "4 TA             46  "
      ]
     },
     "metadata": {},
     "output_type": "display_data"
    }
   ],
   "source": [
    "heart_failure %>%\n",
    "group_by(ChestPainType)%>%\n",
    "summarize(count =n())\n"
   ]
  },
  {
   "cell_type": "code",
   "execution_count": 10,
   "id": "5df39f37",
   "metadata": {
    "execution": {
     "iopub.execute_input": "2023-08-12T17:32:08.791944Z",
     "iopub.status.busy": "2023-08-12T17:32:08.790078Z",
     "iopub.status.idle": "2023-08-12T17:32:08.973822Z",
     "shell.execute_reply": "2023-08-12T17:32:08.972371Z"
    },
    "papermill": {
     "duration": 0.192375,
     "end_time": "2023-08-12T17:32:08.975773",
     "exception": false,
     "start_time": "2023-08-12T17:32:08.783398",
     "status": "completed"
    },
    "tags": []
   },
   "outputs": [
    {
     "data": {
      "image/png": "[encoded data removed]"
     },
     "metadata": {
      "image/png": {
       "height": 420,
       "width": 420
      }
     },
     "output_type": "display_data"
    }
   ],
   "source": [
    "heart_failure %>%\n",
    "group_by(ChestPainType) %>%\n",
    "summarize(count =n()) %>%\n",
    "ggplot() +\n",
    "geom_col(aes (x=ChestPainType, y=count))"
   ]
  },
  {
   "cell_type": "code",
   "execution_count": 11,
   "id": "aa57c7ba",
   "metadata": {
    "execution": {
     "iopub.execute_input": "2023-08-12T17:32:08.989398Z",
     "iopub.status.busy": "2023-08-12T17:32:08.988046Z",
     "iopub.status.idle": "2023-08-12T17:32:09.037466Z",
     "shell.execute_reply": "2023-08-12T17:32:09.035500Z"
    },
    "papermill": {
     "duration": 0.059083,
     "end_time": "2023-08-12T17:32:09.040098",
     "exception": false,
     "start_time": "2023-08-12T17:32:08.981015",
     "status": "completed"
    },
    "tags": []
   },
   "outputs": [
    {
     "data": {
      "text/html": [
       "<table class=\"dataframe\">\n",
       "<caption>A tibble: 67 × 2</caption>\n",
       "<thead>\n",
       "\t<tr><th scope=col>RestingBP</th><th scope=col>count</th></tr>\n",
       "\t<tr><th scope=col>&lt;dbl&gt;</th><th scope=col>&lt;int&gt;</th></tr>\n",
       "</thead>\n",
       "<tbody>\n",
       "\t<tr><td>  0</td><td>  1</td></tr>\n",
       "\t<tr><td> 80</td><td>  1</td></tr>\n",
       "\t<tr><td> 92</td><td>  1</td></tr>\n",
       "\t<tr><td> 94</td><td>  2</td></tr>\n",
       "\t<tr><td> 95</td><td>  6</td></tr>\n",
       "\t<tr><td> 96</td><td>  1</td></tr>\n",
       "\t<tr><td> 98</td><td>  1</td></tr>\n",
       "\t<tr><td>100</td><td> 15</td></tr>\n",
       "\t<tr><td>101</td><td>  1</td></tr>\n",
       "\t<tr><td>102</td><td>  3</td></tr>\n",
       "\t<tr><td>104</td><td>  3</td></tr>\n",
       "\t<tr><td>105</td><td>  9</td></tr>\n",
       "\t<tr><td>106</td><td>  3</td></tr>\n",
       "\t<tr><td>108</td><td>  7</td></tr>\n",
       "\t<tr><td>110</td><td> 58</td></tr>\n",
       "\t<tr><td>112</td><td> 14</td></tr>\n",
       "\t<tr><td>113</td><td>  1</td></tr>\n",
       "\t<tr><td>114</td><td>  2</td></tr>\n",
       "\t<tr><td>115</td><td> 19</td></tr>\n",
       "\t<tr><td>116</td><td>  2</td></tr>\n",
       "\t<tr><td>117</td><td>  1</td></tr>\n",
       "\t<tr><td>118</td><td> 10</td></tr>\n",
       "\t<tr><td>120</td><td>132</td></tr>\n",
       "\t<tr><td>122</td><td> 12</td></tr>\n",
       "\t<tr><td>123</td><td>  2</td></tr>\n",
       "\t<tr><td>124</td><td> 12</td></tr>\n",
       "\t<tr><td>125</td><td> 29</td></tr>\n",
       "\t<tr><td>126</td><td>  7</td></tr>\n",
       "\t<tr><td>127</td><td>  1</td></tr>\n",
       "\t<tr><td>128</td><td> 18</td></tr>\n",
       "\t<tr><td>⋮</td><td>⋮</td></tr>\n",
       "\t<tr><td>136</td><td> 13</td></tr>\n",
       "\t<tr><td>137</td><td>  5</td></tr>\n",
       "\t<tr><td>138</td><td> 17</td></tr>\n",
       "\t<tr><td>139</td><td>  5</td></tr>\n",
       "\t<tr><td>140</td><td>107</td></tr>\n",
       "\t<tr><td>141</td><td>  3</td></tr>\n",
       "\t<tr><td>142</td><td> 11</td></tr>\n",
       "\t<tr><td>143</td><td>  2</td></tr>\n",
       "\t<tr><td>144</td><td>  8</td></tr>\n",
       "\t<tr><td>145</td><td> 18</td></tr>\n",
       "\t<tr><td>146</td><td>  4</td></tr>\n",
       "\t<tr><td>148</td><td>  2</td></tr>\n",
       "\t<tr><td>150</td><td> 55</td></tr>\n",
       "\t<tr><td>152</td><td>  7</td></tr>\n",
       "\t<tr><td>154</td><td>  3</td></tr>\n",
       "\t<tr><td>155</td><td>  8</td></tr>\n",
       "\t<tr><td>156</td><td>  2</td></tr>\n",
       "\t<tr><td>158</td><td>  4</td></tr>\n",
       "\t<tr><td>160</td><td> 50</td></tr>\n",
       "\t<tr><td>164</td><td>  1</td></tr>\n",
       "\t<tr><td>165</td><td>  2</td></tr>\n",
       "\t<tr><td>170</td><td> 14</td></tr>\n",
       "\t<tr><td>172</td><td>  2</td></tr>\n",
       "\t<tr><td>174</td><td>  1</td></tr>\n",
       "\t<tr><td>178</td><td>  3</td></tr>\n",
       "\t<tr><td>180</td><td> 12</td></tr>\n",
       "\t<tr><td>185</td><td>  1</td></tr>\n",
       "\t<tr><td>190</td><td>  2</td></tr>\n",
       "\t<tr><td>192</td><td>  1</td></tr>\n",
       "\t<tr><td>200</td><td>  4</td></tr>\n",
       "</tbody>\n",
       "</table>\n"
      ],
      "text/latex": [
       "A tibble: 67 × 2\n",
       "\\begin{tabular}{ll}\n",
       " RestingBP & count\\\\\n",
       " <dbl> & <int>\\\\\n",
       "\\hline\n",
       "\t   0 &   1\\\\\n",
       "\t  80 &   1\\\\\n",
       "\t  92 &   1\\\\\n",
       "\t  94 &   2\\\\\n",
       "\t  95 &   6\\\\\n",
       "\t  96 &   1\\\\\n",
       "\t  98 &   1\\\\\n",
       "\t 100 &  15\\\\\n",
       "\t 101 &   1\\\\\n",
       "\t 102 &   3\\\\\n",
       "\t 104 &   3\\\\\n",
       "\t 105 &   9\\\\\n",
       "\t 106 &   3\\\\\n",
       "\t 108 &   7\\\\\n",
       "\t 110 &  58\\\\\n",
       "\t 112 &  14\\\\\n",
       "\t 113 &   1\\\\\n",
       "\t 114 &   2\\\\\n",
       "\t 115 &  19\\\\\n",
       "\t 116 &   2\\\\\n",
       "\t 117 &   1\\\\\n",
       "\t 118 &  10\\\\\n",
       "\t 120 & 132\\\\\n",
       "\t 122 &  12\\\\\n",
       "\t 123 &   2\\\\\n",
       "\t 124 &  12\\\\\n",
       "\t 125 &  29\\\\\n",
       "\t 126 &   7\\\\\n",
       "\t 127 &   1\\\\\n",
       "\t 128 &  18\\\\\n",
       "\t ⋮ & ⋮\\\\\n",
       "\t 136 &  13\\\\\n",
       "\t 137 &   5\\\\\n",
       "\t 138 &  17\\\\\n",
       "\t 139 &   5\\\\\n",
       "\t 140 & 107\\\\\n",
       "\t 141 &   3\\\\\n",
       "\t 142 &  11\\\\\n",
       "\t 143 &   2\\\\\n",
       "\t 144 &   8\\\\\n",
       "\t 145 &  18\\\\\n",
       "\t 146 &   4\\\\\n",
       "\t 148 &   2\\\\\n",
       "\t 150 &  55\\\\\n",
       "\t 152 &   7\\\\\n",
       "\t 154 &   3\\\\\n",
       "\t 155 &   8\\\\\n",
       "\t 156 &   2\\\\\n",
       "\t 158 &   4\\\\\n",
       "\t 160 &  50\\\\\n",
       "\t 164 &   1\\\\\n",
       "\t 165 &   2\\\\\n",
       "\t 170 &  14\\\\\n",
       "\t 172 &   2\\\\\n",
       "\t 174 &   1\\\\\n",
       "\t 178 &   3\\\\\n",
       "\t 180 &  12\\\\\n",
       "\t 185 &   1\\\\\n",
       "\t 190 &   2\\\\\n",
       "\t 192 &   1\\\\\n",
       "\t 200 &   4\\\\\n",
       "\\end{tabular}\n"
      ],
      "text/markdown": [
       "\n",
       "A tibble: 67 × 2\n",
       "\n",
       "| RestingBP &lt;dbl&gt; | count &lt;int&gt; |\n",
       "|---|---|\n",
       "|   0 |   1 |\n",
       "|  80 |   1 |\n",
       "|  92 |   1 |\n",
       "|  94 |   2 |\n",
       "|  95 |   6 |\n",
       "|  96 |   1 |\n",
       "|  98 |   1 |\n",
       "| 100 |  15 |\n",
       "| 101 |   1 |\n",
       "| 102 |   3 |\n",
       "| 104 |   3 |\n",
       "| 105 |   9 |\n",
       "| 106 |   3 |\n",
       "| 108 |   7 |\n",
       "| 110 |  58 |\n",
       "| 112 |  14 |\n",
       "| 113 |   1 |\n",
       "| 114 |   2 |\n",
       "| 115 |  19 |\n",
       "| 116 |   2 |\n",
       "| 117 |   1 |\n",
       "| 118 |  10 |\n",
       "| 120 | 132 |\n",
       "| 122 |  12 |\n",
       "| 123 |   2 |\n",
       "| 124 |  12 |\n",
       "| 125 |  29 |\n",
       "| 126 |   7 |\n",
       "| 127 |   1 |\n",
       "| 128 |  18 |\n",
       "| ⋮ | ⋮ |\n",
       "| 136 |  13 |\n",
       "| 137 |   5 |\n",
       "| 138 |  17 |\n",
       "| 139 |   5 |\n",
       "| 140 | 107 |\n",
       "| 141 |   3 |\n",
       "| 142 |  11 |\n",
       "| 143 |   2 |\n",
       "| 144 |   8 |\n",
       "| 145 |  18 |\n",
       "| 146 |   4 |\n",
       "| 148 |   2 |\n",
       "| 150 |  55 |\n",
       "| 152 |   7 |\n",
       "| 154 |   3 |\n",
       "| 155 |   8 |\n",
       "| 156 |   2 |\n",
       "| 158 |   4 |\n",
       "| 160 |  50 |\n",
       "| 164 |   1 |\n",
       "| 165 |   2 |\n",
       "| 170 |  14 |\n",
       "| 172 |   2 |\n",
       "| 174 |   1 |\n",
       "| 178 |   3 |\n",
       "| 180 |  12 |\n",
       "| 185 |   1 |\n",
       "| 190 |   2 |\n",
       "| 192 |   1 |\n",
       "| 200 |   4 |\n",
       "\n"
      ],
      "text/plain": [
       "   RestingBP count\n",
       "1    0         1  \n",
       "2   80         1  \n",
       "3   92         1  \n",
       "4   94         2  \n",
       "5   95         6  \n",
       "6   96         1  \n",
       "7   98         1  \n",
       "8  100        15  \n",
       "9  101         1  \n",
       "10 102         3  \n",
       "11 104         3  \n",
       "12 105         9  \n",
       "13 106         3  \n",
       "14 108         7  \n",
       "15 110        58  \n",
       "16 112        14  \n",
       "17 113         1  \n",
       "18 114         2  \n",
       "19 115        19  \n",
       "20 116         2  \n",
       "21 117         1  \n",
       "22 118        10  \n",
       "23 120       132  \n",
       "24 122        12  \n",
       "25 123         2  \n",
       "26 124        12  \n",
       "27 125        29  \n",
       "28 126         7  \n",
       "29 127         1  \n",
       "30 128        18  \n",
       "⋮  ⋮         ⋮    \n",
       "38 136        13  \n",
       "39 137         5  \n",
       "40 138        17  \n",
       "41 139         5  \n",
       "42 140       107  \n",
       "43 141         3  \n",
       "44 142        11  \n",
       "45 143         2  \n",
       "46 144         8  \n",
       "47 145        18  \n",
       "48 146         4  \n",
       "49 148         2  \n",
       "50 150        55  \n",
       "51 152         7  \n",
       "52 154         3  \n",
       "53 155         8  \n",
       "54 156         2  \n",
       "55 158         4  \n",
       "56 160        50  \n",
       "57 164         1  \n",
       "58 165         2  \n",
       "59 170        14  \n",
       "60 172         2  \n",
       "61 174         1  \n",
       "62 178         3  \n",
       "63 180        12  \n",
       "64 185         1  \n",
       "65 190         2  \n",
       "66 192         1  \n",
       "67 200         4  "
      ]
     },
     "metadata": {},
     "output_type": "display_data"
    }
   ],
   "source": [
    "heart_failure %>%\n",
    "group_by(RestingBP)%>%\n",
    "summarize(count =n())"
   ]
  },
  {
   "cell_type": "code",
   "execution_count": 12,
   "id": "f0ccf84e",
   "metadata": {
    "execution": {
     "iopub.execute_input": "2023-08-12T17:32:09.054240Z",
     "iopub.status.busy": "2023-08-12T17:32:09.052909Z",
     "iopub.status.idle": "2023-08-12T17:32:09.243393Z",
     "shell.execute_reply": "2023-08-12T17:32:09.242187Z"
    },
    "papermill": {
     "duration": 0.200026,
     "end_time": "2023-08-12T17:32:09.245675",
     "exception": false,
     "start_time": "2023-08-12T17:32:09.045649",
     "status": "completed"
    },
    "tags": []
   },
   "outputs": [
    {
     "data": {
      "image/png": "[encoded data removed]"
     },
     "metadata": {
      "image/png": {
       "height": 420,
       "width": 420
      }
     },
     "output_type": "display_data"
    }
   ],
   "source": [
    "heart_failure %>%\n",
    "group_by(RestingBP) %>%\n",
    "summarize(count =n()) %>%\n",
    "ggplot() +\n",
    "geom_col(aes (x=RestingBP, y=count))"
   ]
  },
  {
   "cell_type": "code",
   "execution_count": 13,
   "id": "dc168554",
   "metadata": {
    "execution": {
     "iopub.execute_input": "2023-08-12T17:32:09.260504Z",
     "iopub.status.busy": "2023-08-12T17:32:09.259212Z",
     "iopub.status.idle": "2023-08-12T17:32:09.283292Z",
     "shell.execute_reply": "2023-08-12T17:32:09.281916Z"
    },
    "papermill": {
     "duration": 0.033939,
     "end_time": "2023-08-12T17:32:09.285521",
     "exception": false,
     "start_time": "2023-08-12T17:32:09.251582",
     "status": "completed"
    },
    "tags": []
   },
   "outputs": [
    {
     "data": {
      "text/html": [
       "<table class=\"dataframe\">\n",
       "<caption>A tibble: 2 × 2</caption>\n",
       "<thead>\n",
       "\t<tr><th scope=col>HeartDisease</th><th scope=col>count</th></tr>\n",
       "\t<tr><th scope=col>&lt;dbl&gt;</th><th scope=col>&lt;int&gt;</th></tr>\n",
       "</thead>\n",
       "<tbody>\n",
       "\t<tr><td>0</td><td>410</td></tr>\n",
       "\t<tr><td>1</td><td>508</td></tr>\n",
       "</tbody>\n",
       "</table>\n"
      ],
      "text/latex": [
       "A tibble: 2 × 2\n",
       "\\begin{tabular}{ll}\n",
       " HeartDisease & count\\\\\n",
       " <dbl> & <int>\\\\\n",
       "\\hline\n",
       "\t 0 & 410\\\\\n",
       "\t 1 & 508\\\\\n",
       "\\end{tabular}\n"
      ],
      "text/markdown": [
       "\n",
       "A tibble: 2 × 2\n",
       "\n",
       "| HeartDisease &lt;dbl&gt; | count &lt;int&gt; |\n",
       "|---|---|\n",
       "| 0 | 410 |\n",
       "| 1 | 508 |\n",
       "\n"
      ],
      "text/plain": [
       "  HeartDisease count\n",
       "1 0            410  \n",
       "2 1            508  "
      ]
     },
     "metadata": {},
     "output_type": "display_data"
    }
   ],
   "source": [
    "heart_failure %>%\n",
    "group_by(HeartDisease)%>%\n",
    "summarize(count =n())\n"
   ]
  },
  {
   "cell_type": "code",
   "execution_count": 14,
   "id": "44879d2a",
   "metadata": {
    "execution": {
     "iopub.execute_input": "2023-08-12T17:32:09.300684Z",
     "iopub.status.busy": "2023-08-12T17:32:09.299276Z",
     "iopub.status.idle": "2023-08-12T17:32:09.500145Z",
     "shell.execute_reply": "2023-08-12T17:32:09.498715Z"
    },
    "papermill": {
     "duration": 0.210644,
     "end_time": "2023-08-12T17:32:09.502192",
     "exception": false,
     "start_time": "2023-08-12T17:32:09.291548",
     "status": "completed"
    },
    "tags": []
   },
   "outputs": [
    {
     "data": {
      "image/png": "[encoded data removed]"
     },
     "metadata": {
      "image/png": {
       "height": 420,
       "width": 420
      }
     },
     "output_type": "display_data"
    }
   ],
   "source": [
    "heart_failure %>%\n",
    "group_by(HeartDisease) %>%\n",
    "summarize(count = n()) %>%\n",
    "ggplot() +\n",
    "geom_col(aes(x = factor(HeartDisease), y = count)) +\n",
    "labs(x = \"HeartDisease\", y = \"Count\") +\n",
    "ggtitle(\"Distribution of Heart Failure\")"
   ]
  }
 ],
 "metadata": {
  "kernelspec": {
   "display_name": "R",
   "language": "R",
   "name": "ir"
  },
  "language_info": {
   "codemirror_mode": "r",
   "file_extension": ".r",
   "mimetype": "text/x-r-source",
   "name": "R",
   "pygments_lexer": "r",
   "version": "4.0.5"
  },
  "papermill": {
   "default_parameters": {},
   "duration": 6.294459,
   "end_time": "2023-08-12T17:32:09.629356",
   "environment_variables": {},
   "exception": null,
   "input_path": "__notebook__.ipynb",
   "output_path": "__notebook__.ipynb",
   "parameters": {},
   "start_time": "2023-08-12T17:32:03.334897",
   "version": "2.4.0"
  }
 },
 "nbformat": 4,
 "nbformat_minor": 5
}
